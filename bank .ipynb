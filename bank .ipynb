{
 "cells": [
  {
   "cell_type": "code",
   "execution_count": 1,
   "id": "38f834b4",
   "metadata": {},
   "outputs": [],
   "source": [
    "def bank():\n",
    "    balance = 6458.58\n",
    "    password = 1234\n",
    "    chance = 3\n",
    "    while chance > 0:\n",
    "        restart = input(\"do you wanna restart\")\n",
    "        while restart in [ \"y\", \"Y\"]:\n",
    "            pin = int(input(\"enter the pin:\"))\n",
    "            if password == pin:\n",
    "                print(\"correct password\")\n",
    "                print(\"choose 1 for balance\")\n",
    "                print(\"choose 2 for with draw\")\n",
    "                print(\"choose 3 for deposit\")\n",
    "                print(\"choose 4 for return the card\")\n",
    "                choice = int(input(\"select your choice: \"))\n",
    "                if choice == 1:\n",
    "                    print(balance)\n",
    "                    restart = input(\"do you wanna restart\")\n",
    "                    if restart in [\"n\",\"N\"]:\n",
    "                        print(\"thank you!\")\n",
    "                        break\n",
    "                elif choice == 2:\n",
    "                    amount = int(input(\"enter 10,100,500,1000\"))\n",
    "                    account_balance = balance - amount \n",
    "                    print(\"your current balance is \", + account_balance)\n",
    "                    restart = input(\"do you wanna restart\")\n",
    "                    if restart in [\"n\",\"N\"]:\n",
    "                        print(\"thank you!\")\n",
    "                        break\n",
    "                elif choice == 3:\n",
    "                    amount = int(input(\"enter 10,100,500,1000\"))\n",
    "                    account_balance = balance + amount\n",
    "                    print(\"your current balance is \", + account_balance)\n",
    "                    restart = input(\"do you wanna restart\")\n",
    "                    if restart in [\"n\",\"N\"]:\n",
    "                        print(\"thank you!\")\n",
    "                        break\n",
    "                elif choice == 4:\n",
    "                    print(\"please wait while your card is being returned \\nthankyou for your patience\")\n",
    "                    restart = input(\"do you wanna restart\")\n",
    "                    if restart in [\"n\",\"N\"]:\n",
    "                        print(\"thank you!\")\n",
    "                        break\n",
    "                else:\n",
    "                    print(\"please pick the right no\")\n",
    "            elif pin != 1234:\n",
    "                print(\"wrong password\")\n",
    "                chance = chance - 1\n",
    "                if chance == 0:\n",
    "                    print(\"your chances are over\")\n",
    "                    break\n",
    "\n",
    "\n"
   ]
  },
  {
   "cell_type": "code",
   "execution_count": 2,
   "id": "0a87e34c",
   "metadata": {},
   "outputs": [
    {
     "name": "stdout",
     "output_type": "stream",
     "text": [
      "do you wanna restarty\n",
      "enter the pin:1234\n",
      "correct password\n",
      "choose 1 for balance\n",
      "choose 2 for with draw\n",
      "choose 3 for deposit\n",
      "choose 4 for return the card\n",
      "select your choice: 4\n",
      "please wait while your card is being returned \n",
      "thankyou for your patience\n",
      "do you wanna restarty\n",
      "enter the pin:6794\n",
      "wrong password\n",
      "enter the pin:5648\n",
      "wrong password\n",
      "enter the pin:6759\n",
      "wrong password\n",
      "your chances are over\n"
     ]
    }
   ],
   "source": [
    "bank()"
   ]
  },
  {
   "cell_type": "markdown",
   "id": "d55cedac",
   "metadata": {},
   "source": [
    "# Bus reservations"
   ]
  },
  {
   "cell_type": "code",
   "execution_count": 3,
   "id": "6598e11d",
   "metadata": {},
   "outputs": [
    {
     "name": "stdout",
     "output_type": "stream",
     "text": [
      "enter yes or Noyes\n",
      "enter a num1\n",
      "enter your age8\n",
      "enter your name: Sharon\n",
      "Male or FemaleFemale\n",
      "age is: 8\n",
      "name is:  Sharon\n",
      "gender is Female\n",
      "you forgot someone? no\n"
     ]
    }
   ],
   "source": [
    "travelling = input(\"enter yes or No\")\n",
    "\n",
    "while travelling == \"yes\":\n",
    "    num = int(input(\"enter a num\"))\n",
    "    for num in range(1,num + 1):\n",
    "        age = int(input(\"enter your age\"))\n",
    "        name = input(\"enter your name: \")\n",
    "        sex = input(\"Male or Female\")\n",
    "        print(\"age is:\",age)\n",
    "        print(\"name is: \",name)\n",
    "        print(\"gender is\",sex)\n",
    "    travelling = input(\"you forgot someone? \")\n",
    "    "
   ]
  },
  {
   "cell_type": "code",
   "execution_count": 11,
   "id": "3e43864a",
   "metadata": {},
   "outputs": [],
   "source": [
    "def temprature():\n",
    "    cel = float(input(\"enter the temp: \"))\n",
    "    farenheit = (9/5)*cel + 32\n",
    "    print(\"the temp is\", + farenheit)"
   ]
  },
  {
   "cell_type": "code",
   "execution_count": 12,
   "id": "c207a282",
   "metadata": {},
   "outputs": [
    {
     "name": "stdout",
     "output_type": "stream",
     "text": [
      "enter the temp: 43\n",
      "the temp is 109.4\n"
     ]
    }
   ],
   "source": [
    "temprature()"
   ]
  },
  {
   "cell_type": "code",
   "execution_count": 1,
   "id": "f503a449",
   "metadata": {},
   "outputs": [
    {
     "name": "stdout",
     "output_type": "stream",
     "text": [
      "5.830951894845301\n"
     ]
    }
   ],
   "source": [
    "x = abs(3 - 5j)\n",
    "print(x)"
   ]
  },
  {
   "cell_type": "code",
   "execution_count": null,
   "id": "47215827",
   "metadata": {},
   "outputs": [],
   "source": []
  }
 ],
 "metadata": {
  "kernelspec": {
   "display_name": "Python 3",
   "language": "python",
   "name": "python3"
  },
  "language_info": {
   "codemirror_mode": {
    "name": "ipython",
    "version": 3
   },
   "file_extension": ".py",
   "mimetype": "text/x-python",
   "name": "python",
   "nbconvert_exporter": "python",
   "pygments_lexer": "ipython3",
   "version": "3.8.8"
  }
 },
 "nbformat": 4,
 "nbformat_minor": 5
}
