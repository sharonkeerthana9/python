{
 "cells": [
  {
   "cell_type": "markdown",
   "id": "6954b1ab",
   "metadata": {},
   "source": [
    "# how to generate a password "
   ]
  },
  {
   "cell_type": "code",
   "execution_count": 10,
   "id": "ecaf9f81",
   "metadata": {},
   "outputs": [
    {
     "name": "stdout",
     "output_type": "stream",
     "text": [
      "5N@3R4*68S&a!oA7h$^\n"
     ]
    }
   ],
   "source": [
    "import random \n",
    "\n",
    "name = \"sharon\"\n",
    "name1 = name.upper()\n",
    "numbers = \"123456789\"\n",
    "symbols = \"!@#$%^&*()\"\n",
    "\n",
    "x = name + name1 + numbers + symbols\n",
    "password = \"\".join(random.sample(x , 19))\n",
    "print(password)"
   ]
  },
  {
   "cell_type": "markdown",
   "id": "e12daec2",
   "metadata": {},
   "source": [
    "# prime number"
   ]
  },
  {
   "cell_type": "code",
   "execution_count": 69,
   "id": "7e3dcd59",
   "metadata": {},
   "outputs": [
    {
     "name": "stdout",
     "output_type": "stream",
     "text": [
      "enter a number: 53\n",
      "53 prime\n"
     ]
    }
   ],
   "source": [
    "num = (int(input(\"enter a number: \")))\n",
    "\n",
    "if num > 1:\n",
    "    for i in range (2, num):\n",
    "        if (num % i) == 0:\n",
    "            print(\"not prime\")\n",
    "            break\n",
    "    else:\n",
    "        print(num,\"prime\")\n",
    "else:\n",
    "    print(\"i said greater than 1\")\n"
   ]
  },
  {
   "cell_type": "markdown",
   "id": "c4d82fd1",
   "metadata": {},
   "source": [
    "# when you want all the primes in range "
   ]
  },
  {
   "cell_type": "code",
   "execution_count": 96,
   "id": "c5b6ce70",
   "metadata": {},
   "outputs": [
    {
     "name": "stdout",
     "output_type": "stream",
     "text": [
      "3 4 5 7 11 13 17 19 23 29 31 37 41 43 47 53 "
     ]
    }
   ],
   "source": [
    "for i in range(3,54):\n",
    "    for j in range (3,i):\n",
    "        if (i % j) == 0:\n",
    "            break\n",
    "    else:\n",
    "        print(i,end = \" \")\n",
    "        \n",
    "else:\n",
    "    pass"
   ]
  },
  {
   "cell_type": "markdown",
   "id": "4d9e5149",
   "metadata": {},
   "source": [
    "# Fibonacci series"
   ]
  },
  {
   "cell_type": "code",
   "execution_count": 106,
   "id": "eb2625c4",
   "metadata": {},
   "outputs": [
    {
     "name": "stdout",
     "output_type": "stream",
     "text": [
      "enter a number: 11\n",
      "0 1 1 2 3 5 8 13 21 34 55 89 144 "
     ]
    }
   ],
   "source": [
    "n = int(input(\"enter a number: \"))\n",
    "sum = 0 \n",
    "a = 0 \n",
    "b = 1\n",
    "count = 0\n",
    "print(sum,end = \" \")\n",
    "while count <= n:\n",
    "    a = b\n",
    "    b = sum \n",
    "    sum = a + b\n",
    "    count = count + 1\n",
    "    print(sum, end = \" \")\n",
    "   "
   ]
  },
  {
   "cell_type": "code",
   "execution_count": null,
   "id": "099bac61",
   "metadata": {},
   "outputs": [],
   "source": []
  }
 ],
 "metadata": {
  "kernelspec": {
   "display_name": "Python 3",
   "language": "python",
   "name": "python3"
  },
  "language_info": {
   "codemirror_mode": {
    "name": "ipython",
    "version": 3
   },
   "file_extension": ".py",
   "mimetype": "text/x-python",
   "name": "python",
   "nbconvert_exporter": "python",
   "pygments_lexer": "ipython3",
   "version": "3.8.8"
  }
 },
 "nbformat": 4,
 "nbformat_minor": 5
}
