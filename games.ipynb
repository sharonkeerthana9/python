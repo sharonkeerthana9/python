{
 "cells": [
  {
   "cell_type": "markdown",
   "id": "8d0af6a0",
   "metadata": {},
   "source": [
    "# Guessing Game "
   ]
  },
  {
   "cell_type": "code",
   "execution_count": 4,
   "id": "a76175e5",
   "metadata": {},
   "outputs": [
    {
     "name": "stdout",
     "output_type": "stream",
     "text": [
      "enter the num below 20: 1\n",
      "num is too small\n",
      "enter the num below 20: 2\n",
      "num is too small\n",
      "enter the num below 20: 4\n",
      "num is too small\n",
      "enter the num below 20: 5\n",
      "num is too small\n",
      "enter the num below 20: 6\n",
      "num is too small\n",
      "enter the num below 20: 7\n",
      "num is too small\n",
      "enter the num below 20: 8\n",
      "num is too small\n",
      "enter the num below 20: 9\n",
      "num is too small\n",
      "enter the num below 20: 10\n",
      "num is too small\n",
      "enter the num below 20: 11\n",
      "num is too small\n",
      "enter the num below 20: 12\n",
      "num is too small\n",
      "enter the num below 20: 13\n",
      "num is too small\n",
      "enter the num below 20: 14\n",
      "you guessed it right\n"
     ]
    }
   ],
   "source": [
    "import random #need to import this for using random\n",
    "\n",
    "n = 20\n",
    "\n",
    "ran_num = int((n*random.random())+1) # this logic will give you a random number and plus one for including 20\n",
    "\n",
    "guess = 0\n",
    "\n",
    "while guess != ran_num:\n",
    "    guess= int(input(\"enter the num below 20: \"))\n",
    "    if guess > 0:   # the loop will stop when you enter 0\n",
    "        if guess > ran_num:\n",
    "            print(\"num is too big\")\n",
    "        elif guess < ran_num:\n",
    "            print(\"num is too small\")\n",
    "    else:\n",
    "        print(\"sorry that you are giving up\")\n",
    "        break\n",
    "else:\n",
    "    print(\"you guessed it right\")\n",
    "\n",
    "\n"
   ]
  },
  {
   "cell_type": "code",
   "execution_count": null,
   "id": "364cee4c",
   "metadata": {},
   "outputs": [],
   "source": []
  }
 ],
 "metadata": {
  "kernelspec": {
   "display_name": "Python 3",
   "language": "python",
   "name": "python3"
  },
  "language_info": {
   "codemirror_mode": {
    "name": "ipython",
    "version": 3
   },
   "file_extension": ".py",
   "mimetype": "text/x-python",
   "name": "python",
   "nbconvert_exporter": "python",
   "pygments_lexer": "ipython3",
   "version": "3.8.8"
  }
 },
 "nbformat": 4,
 "nbformat_minor": 5
}
