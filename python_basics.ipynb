{
  "nbformat": 4,
  "nbformat_minor": 0,
  "metadata": {
    "colab": {
      "name": "python_basics",
      "provenance": [],
      "authorship_tag": "ABX9TyOSwd8jpVIaqhl8MIy/muGa",
      "include_colab_link": true
    },
    "kernelspec": {
      "display_name": "Python 3",
      "name": "python3"
    },
    "language_info": {
      "name": "python"
    }
  },
  "cells": [
    {
      "cell_type": "markdown",
      "metadata": {
        "id": "view-in-github",
        "colab_type": "text"
      },
      "source": [
        "<a href=\"https://colab.research.google.com/github/sharonkeerthana9/python/blob/main/python_basics.ipynb\" target=\"_parent\"><img src=\"https://colab.research.google.com/assets/colab-badge.svg\" alt=\"Open In Colab\"/></a>"
      ]
    },
    {
      "cell_type": "code",
      "metadata": {
        "colab": {
          "base_uri": "https://localhost:8080/"
        },
        "id": "Tjg3aT4iJntW",
        "outputId": "8a0d3c87-2613-4283-b64e-46f1f9f64932"
      },
      "source": [
        "25 + 23"
      ],
      "execution_count": null,
      "outputs": [
        {
          "output_type": "execute_result",
          "data": {
            "text/plain": [
              "48"
            ]
          },
          "metadata": {
            "tags": []
          },
          "execution_count": 1
        }
      ]
    },
    {
      "cell_type": "code",
      "metadata": {
        "colab": {
          "base_uri": "https://localhost:8080/"
        },
        "id": "4vC3QSalKMju",
        "outputId": "0fb8ffd8-cb65-454f-ba9b-518b6025bbe6"
      },
      "source": [
        "23*23"
      ],
      "execution_count": null,
      "outputs": [
        {
          "output_type": "execute_result",
          "data": {
            "text/plain": [
              "529"
            ]
          },
          "metadata": {
            "tags": []
          },
          "execution_count": 3
        }
      ]
    },
    {
      "cell_type": "code",
      "metadata": {
        "id": "nMGpGDxaKUpl"
      },
      "source": [
        "## just experimenting"
      ],
      "execution_count": null,
      "outputs": []
    },
    {
      "cell_type": "markdown",
      "metadata": {
        "id": "jyXdhj1FMmWa"
      },
      "source": [
        "## just typying "
      ]
    },
    {
      "cell_type": "markdown",
      "metadata": {
        "id": "oSihHwz-OZBb"
      },
      "source": [
        "### sup"
      ]
    },
    {
      "cell_type": "code",
      "metadata": {
        "id": "yAz-fbUxKVf1"
      },
      "source": [
        "# print('hey')"
      ],
      "execution_count": null,
      "outputs": []
    },
    {
      "cell_type": "code",
      "metadata": {
        "id": "boResp8INlPS"
      },
      "source": [
        "mylist=[1,2,3]\n"
      ],
      "execution_count": null,
      "outputs": []
    },
    {
      "cell_type": "code",
      "metadata": {
        "colab": {
          "base_uri": "https://localhost:8080/"
        },
        "id": "JrrKEOSJk2Oo",
        "outputId": "9044edae-c845-4645-868d-895a3c837d5d"
      },
      "source": [
        "mylist"
      ],
      "execution_count": null,
      "outputs": [
        {
          "output_type": "execute_result",
          "data": {
            "text/plain": [
              "[1, 2, 3]"
            ]
          },
          "metadata": {
            "tags": []
          },
          "execution_count": 11
        }
      ]
    },
    {
      "cell_type": "code",
      "metadata": {
        "colab": {
          "base_uri": "https://localhost:8080/"
        },
        "id": "B9BHP0rbk48v",
        "outputId": "7f4cb087-7a02-4162-f931-ac21451a9e34"
      },
      "source": [
        "max(mylist)"
      ],
      "execution_count": null,
      "outputs": [
        {
          "output_type": "execute_result",
          "data": {
            "text/plain": [
              "3"
            ]
          },
          "metadata": {
            "tags": []
          },
          "execution_count": 13
        }
      ]
    },
    {
      "cell_type": "code",
      "metadata": {
        "id": "0vaSisYplhCd"
      },
      "source": [
        "txt = \"We are the so-called \\\"Vikings\\\" from the north.\"\n"
      ],
      "execution_count": null,
      "outputs": []
    },
    {
      "cell_type": "code",
      "metadata": {
        "colab": {
          "base_uri": "https://localhost:8080/",
          "height": 35
        },
        "id": "fZoquiPRituP",
        "outputId": "17b57694-f3ad-4621-e86e-aea833aee9c1"
      },
      "source": [
        "txt"
      ],
      "execution_count": null,
      "outputs": [
        {
          "output_type": "execute_result",
          "data": {
            "application/vnd.google.colaboratory.intrinsic+json": {
              "type": "string"
            },
            "text/plain": [
              "'We are the so-called \"Vikings\" from the north.'"
            ]
          },
          "metadata": {
            "tags": []
          },
          "execution_count": 3
        }
      ]
    },
    {
      "cell_type": "code",
      "metadata": {
        "colab": {
          "base_uri": "https://localhost:8080/"
        },
        "id": "PTy4AGhAi5ed",
        "outputId": "a2c3ae11-7008-4137-e589-78f5d63ac495"
      },
      "source": [
        "6//5"
      ],
      "execution_count": null,
      "outputs": [
        {
          "output_type": "execute_result",
          "data": {
            "text/plain": [
              "1"
            ]
          },
          "metadata": {
            "tags": []
          },
          "execution_count": 4
        }
      ]
    },
    {
      "cell_type": "code",
      "metadata": {
        "colab": {
          "base_uri": "https://localhost:8080/"
        },
        "id": "EOPeihj1kTZ6",
        "outputId": "f8103b11-20e0-49c9-d795-69aad1508eeb"
      },
      "source": [
        "list(range(10))"
      ],
      "execution_count": null,
      "outputs": [
        {
          "output_type": "execute_result",
          "data": {
            "text/plain": [
              "[0, 1, 2, 3, 4, 5, 6, 7, 8, 9]"
            ]
          },
          "metadata": {
            "tags": []
          },
          "execution_count": 6
        }
      ]
    },
    {
      "cell_type": "code",
      "metadata": {
        "id": "THHrv_BXoT1X"
      },
      "source": [
        "def myfunc(z):\n",
        "  x = z**2\n",
        "  print(x)"
      ],
      "execution_count": null,
      "outputs": []
    },
    {
      "cell_type": "code",
      "metadata": {
        "colab": {
          "base_uri": "https://localhost:8080/"
        },
        "id": "9OwRRMCXpkXv",
        "outputId": "1fd5af81-7b64-469d-eae0-b00b0334ade7"
      },
      "source": [
        "myfunc(16)"
      ],
      "execution_count": null,
      "outputs": [
        {
          "output_type": "stream",
          "text": [
            "256\n"
          ],
          "name": "stdout"
        }
      ]
    },
    {
      "cell_type": "code",
      "metadata": {
        "id": "MtPLeqBzpm5F"
      },
      "source": [
        "x = (\"apple\", \"banana\", \"cherry\")\n",
        "y = list(x)\n",
        "y.insert(1,\"kiwi\")\n",
        "x = tuple(y)"
      ],
      "execution_count": null,
      "outputs": []
    },
    {
      "cell_type": "code",
      "metadata": {
        "colab": {
          "base_uri": "https://localhost:8080/"
        },
        "id": "J_F7JcDVtm-i",
        "outputId": "b4dd1e83-f00c-465f-8403-6e856ece43d1"
      },
      "source": [
        "x"
      ],
      "execution_count": null,
      "outputs": [
        {
          "output_type": "execute_result",
          "data": {
            "text/plain": [
              "('apple', 'kiwi', 'banana', 'cherry')"
            ]
          },
          "metadata": {
            "tags": []
          },
          "execution_count": 30
        }
      ]
    },
    {
      "cell_type": "code",
      "metadata": {
        "colab": {
          "base_uri": "https://localhost:8080/"
        },
        "id": "-Lj5K84WtpJM",
        "outputId": "fdd69ed5-b224-419d-84c6-0b7fcfae5877"
      },
      "source": [
        "a = 100\n",
        "\n",
        "if a > 10:\n",
        "  print(\"a is greater than 10\")\n",
        "  if a > 20:\n",
        "    print(\"a is also greater than 20\")\n",
        "  else:\n",
        "    pass\n",
        "else:\n",
        "  print(\"a is not greater than 10\")"
      ],
      "execution_count": null,
      "outputs": [
        {
          "output_type": "stream",
          "text": [
            "a is greater than 10\n",
            "a is also greater than 20\n"
          ],
          "name": "stdout"
        }
      ]
    },
    {
      "cell_type": "code",
      "metadata": {
        "colab": {
          "base_uri": "https://localhost:8080/"
        },
        "id": "MfzjZl390z1P",
        "outputId": "fbe5009c-d4d5-42a1-ef20-485153e11020"
      },
      "source": [
        "a = input(\"enter the value of a \")\n",
        "b = input(\"enter the value of b\")\n",
        "c = float(a) + float(b)"
      ],
      "execution_count": null,
      "outputs": [
        {
          "output_type": "stream",
          "text": [
            "enter the value of a 10.8\n",
            "enter the value of b10.9\n"
          ],
          "name": "stdout"
        }
      ]
    },
    {
      "cell_type": "markdown",
      "metadata": {
        "id": "xPC869vo3u-o"
      },
      "source": [
        ""
      ]
    },
    {
      "cell_type": "code",
      "metadata": {
        "colab": {
          "base_uri": "https://localhost:8080/"
        },
        "id": "dO3tO6391UOw",
        "outputId": "f42c41f8-0b7c-4bba-f0de-47a9169fdc38"
      },
      "source": [
        "i = 0\n",
        "while i < 6:\n",
        "  i += 1\n",
        "  if i == 3:\n",
        "    continue\n",
        "  print(i)\n"
      ],
      "execution_count": null,
      "outputs": [
        {
          "output_type": "stream",
          "text": [
            "1\n",
            "2\n",
            "4\n",
            "5\n",
            "6\n"
          ],
          "name": "stdout"
        }
      ]
    },
    {
      "cell_type": "code",
      "metadata": {
        "colab": {
          "base_uri": "https://localhost:8080/"
        },
        "id": "zyfFC6i38jyb",
        "outputId": "282ecb58-7dcd-4add-b56b-67da5611c562"
      },
      "source": [
        "fruits = [\"apple\", \"banana\", \"cherry\"]\n",
        "for x in fruits:\n",
        "  print(x)"
      ],
      "execution_count": null,
      "outputs": [
        {
          "output_type": "stream",
          "text": [
            "apple\n",
            "banana\n",
            "cherry\n"
          ],
          "name": "stdout"
        }
      ]
    },
    {
      "cell_type": "code",
      "metadata": {
        "colab": {
          "base_uri": "https://localhost:8080/"
        },
        "id": "JhxeTj8y8rj3",
        "outputId": "2d26d2d2-fc57-4df0-d2db-5d8b52f624b1"
      },
      "source": [
        "fruits = [\"apple\", \"banana\", \"cherry\"]\n",
        "for x in fruits:\n",
        "  if x == \"banana\":\n",
        "    continue\n",
        "  print(x)\n"
      ],
      "execution_count": null,
      "outputs": [
        {
          "output_type": "stream",
          "text": [
            "apple\n",
            "cherry\n"
          ],
          "name": "stdout"
        }
      ]
    },
    {
      "cell_type": "code",
      "metadata": {
        "colab": {
          "base_uri": "https://localhost:8080/"
        },
        "id": "jG-iqCr78u12",
        "outputId": "c4c6acbb-4b43-455a-cfe1-1d92dedff50c"
      },
      "source": [
        "for x in range(10):\n",
        "  if x == 4:\n",
        "    continue\n",
        "  print(x)\n"
      ],
      "execution_count": null,
      "outputs": [
        {
          "output_type": "stream",
          "text": [
            "0\n",
            "1\n",
            "2\n",
            "3\n",
            "5\n",
            "6\n",
            "7\n",
            "8\n",
            "9\n"
          ],
          "name": "stdout"
        }
      ]
    },
    {
      "cell_type": "code",
      "metadata": {
        "id": "nQFqoNa69-50"
      },
      "source": [
        "def arth():\n",
        "  a = input(\"enter the value a: \")\n",
        "  b = input(\"enter the value b: \")\n",
        "  c = float(a) + float(b)\n",
        "  print(c)"
      ],
      "execution_count": null,
      "outputs": []
    },
    {
      "cell_type": "code",
      "metadata": {
        "colab": {
          "base_uri": "https://localhost:8080/"
        },
        "id": "-bVAUUZUBehe",
        "outputId": "8b01cb8e-885d-40e8-9477-2482c26f6fa2"
      },
      "source": [
        "arth()"
      ],
      "execution_count": null,
      "outputs": [
        {
          "output_type": "stream",
          "text": [
            "enter the value a: 10\n",
            "enter the value b: 20\n",
            "30.0\n"
          ],
          "name": "stdout"
        }
      ]
    },
    {
      "cell_type": "code",
      "metadata": {
        "id": "mum5hoqSBgsZ"
      },
      "source": [
        "def names(fname, lname):\n",
        "  print(fname + \" \" + lname)"
      ],
      "execution_count": null,
      "outputs": []
    },
    {
      "cell_type": "code",
      "metadata": {
        "colab": {
          "base_uri": "https://localhost:8080/"
        },
        "id": "2mA66Mt3CQXY",
        "outputId": "d4b2e516-fb17-441d-8003-d0784d2c0f3b"
      },
      "source": [
        "names(\"sharon\",\"keerthana\")"
      ],
      "execution_count": null,
      "outputs": [
        {
          "output_type": "stream",
          "text": [
            "sharon keerthana\n"
          ],
          "name": "stdout"
        }
      ]
    },
    {
      "cell_type": "markdown",
      "metadata": {
        "id": "pk8LkcCEW8Uv"
      },
      "source": [
        "## home work "
      ]
    },
    {
      "cell_type": "markdown",
      "metadata": {
        "id": "qA0hNxwAej14"
      },
      "source": [
        "###Write a Python function that checks whether a word or phrase is palindrome or not.\n",
        "\n"
      ]
    },
    {
      "cell_type": "code",
      "metadata": {
        "id": "RTIecT4UeKG1"
      },
      "source": [
        "def palindrome(x):\n",
        "  x = x.replace(' ','')\n",
        "  return x == x[::-1]"
      ],
      "execution_count": null,
      "outputs": []
    },
    {
      "cell_type": "code",
      "metadata": {
        "colab": {
          "base_uri": "https://localhost:8080/"
        },
        "id": "l2gfFDMPfuYU",
        "outputId": "ce7f80e7-d1f3-497c-daf9-ef44e62b30ab"
      },
      "source": [
        "palindrome('runrun')"
      ],
      "execution_count": null,
      "outputs": [
        {
          "output_type": "execute_result",
          "data": {
            "text/plain": [
              "False"
            ]
          },
          "metadata": {
            "tags": []
          },
          "execution_count": 145
        }
      ]
    },
    {
      "cell_type": "code",
      "metadata": {
        "colab": {
          "base_uri": "https://localhost:8080/"
        },
        "id": "vRC35ObafxJH",
        "outputId": "279a4bff-56cf-4908-ceb7-65df84f193ea"
      },
      "source": [
        "palindrome('aaaa')"
      ],
      "execution_count": null,
      "outputs": [
        {
          "output_type": "execute_result",
          "data": {
            "text/plain": [
              "True"
            ]
          },
          "metadata": {
            "tags": []
          },
          "execution_count": 146
        }
      ]
    },
    {
      "cell_type": "code",
      "metadata": {
        "id": "KuxEOyuggLVO"
      },
      "source": [
        "lst = [1,2,3]\n"
      ],
      "execution_count": null,
      "outputs": []
    },
    {
      "cell_type": "markdown",
      "metadata": {
        "id": "gK9PzzdvYt1Q"
      },
      "source": [
        "###LESSER OF TWO EVENS:"
      ]
    },
    {
      "cell_type": "code",
      "metadata": {
        "id": "7xp2zG_sxthV"
      },
      "source": [
        "def min_max(a,b):\n",
        "  if a%2 == 0 and b%2 == 0:\n",
        "    return min(a,b)\n",
        "  else:\n",
        "    return max(a,b)"
      ],
      "execution_count": null,
      "outputs": []
    },
    {
      "cell_type": "code",
      "metadata": {
        "colab": {
          "base_uri": "https://localhost:8080/"
        },
        "id": "M1VedEDHxv3K",
        "outputId": "6b871e44-bea7-40f5-d40c-d2c6ce915f03"
      },
      "source": [
        "min_max(2,11)"
      ],
      "execution_count": null,
      "outputs": [
        {
          "output_type": "execute_result",
          "data": {
            "text/plain": [
              "11"
            ]
          },
          "metadata": {
            "tags": []
          },
          "execution_count": 6
        }
      ]
    },
    {
      "cell_type": "markdown",
      "metadata": {
        "id": "1XwHwNk-Z-Gr"
      },
      "source": [
        "###True if both words begin with same letter"
      ]
    },
    {
      "cell_type": "code",
      "metadata": {
        "id": "qZxveLm1Ygab"
      },
      "source": [
        "def letter_check(text):\n",
        "  x = text.split()\n",
        "  return x[0][0] == x[1][0]"
      ],
      "execution_count": null,
      "outputs": []
    },
    {
      "cell_type": "code",
      "metadata": {
        "colab": {
          "base_uri": "https://localhost:8080/"
        },
        "id": "emlH8w0DZLNx",
        "outputId": "a2e31019-54c3-478b-f13f-11e60dd9207d"
      },
      "source": [
        "letter_check(\"sharon keerthana\")"
      ],
      "execution_count": null,
      "outputs": [
        {
          "output_type": "execute_result",
          "data": {
            "text/plain": [
              "False"
            ]
          },
          "metadata": {
            "tags": []
          },
          "execution_count": 25
        }
      ]
    },
    {
      "cell_type": "markdown",
      "metadata": {
        "id": "2OEc5sXVdVPa"
      },
      "source": [
        "###True if the sum of the integers is 20 or if one of the integers is 20"
      ]
    },
    {
      "cell_type": "code",
      "metadata": {
        "id": "3xVmwJsSZMW2"
      },
      "source": [
        "def twenty(a,b):\n",
        " return (a+b == 20) or (a == 20 or b == 20) \n",
        "  "
      ],
      "execution_count": null,
      "outputs": []
    },
    {
      "cell_type": "code",
      "metadata": {
        "colab": {
          "base_uri": "https://localhost:8080/"
        },
        "id": "x6HMPq7Pbhxi",
        "outputId": "a987039e-ca0a-4bbf-ccb9-57bac8ed200e"
      },
      "source": [
        "twenty(11,2)"
      ],
      "execution_count": null,
      "outputs": [
        {
          "output_type": "execute_result",
          "data": {
            "text/plain": [
              "False"
            ]
          },
          "metadata": {
            "tags": []
          },
          "execution_count": 2
        }
      ]
    },
    {
      "cell_type": "markdown",
      "metadata": {
        "id": "p7EJMAYOdheA"
      },
      "source": [
        "###OLD MACDONALD"
      ]
    },
    {
      "cell_type": "code",
      "metadata": {
        "id": "AHDsYbsQbwgu"
      },
      "source": [
        "def macd(name):\n",
        "  if len(name) > 3:\n",
        "    return name[:3].capitalize() + name[3:].capitalize()\n",
        "  else:\n",
        "    return \"name is too short\""
      ],
      "execution_count": null,
      "outputs": []
    },
    {
      "cell_type": "code",
      "metadata": {
        "colab": {
          "base_uri": "https://localhost:8080/",
          "height": 35
        },
        "id": "FMdICllneDa0",
        "outputId": "06745a10-5b1c-46f3-d963-cd696049eeaf"
      },
      "source": [
        "macd(\"macdonalds\")"
      ],
      "execution_count": null,
      "outputs": [
        {
          "output_type": "execute_result",
          "data": {
            "application/vnd.google.colaboratory.intrinsic+json": {
              "type": "string"
            },
            "text/plain": [
              "'MacDonalds'"
            ]
          },
          "metadata": {
            "tags": []
          },
          "execution_count": 50
        }
      ]
    },
    {
      "cell_type": "markdown",
      "metadata": {
        "id": "HtBGfAO5fJfr"
      },
      "source": [
        "###MASTER YODA:(reversed string)"
      ]
    },
    {
      "cell_type": "code",
      "metadata": {
        "id": "iiCgkxDEfJC1"
      },
      "source": [
        "def yoda(text):\n",
        "  x= ' '.join(text.split()[::-1])  \n",
        "  return   x"
      ],
      "execution_count": null,
      "outputs": []
    },
    {
      "cell_type": "code",
      "metadata": {
        "colab": {
          "base_uri": "https://localhost:8080/",
          "height": 35
        },
        "id": "6o4WCLmIeHCE",
        "outputId": "4705d031-d84b-44b9-a7a8-e0aedc33aa9f"
      },
      "source": [
        "yoda(\"I am home\")"
      ],
      "execution_count": null,
      "outputs": [
        {
          "output_type": "execute_result",
          "data": {
            "application/vnd.google.colaboratory.intrinsic+json": {
              "type": "string"
            },
            "text/plain": [
              "'home am I'"
            ]
          },
          "metadata": {
            "tags": []
          },
          "execution_count": 70
        }
      ]
    },
    {
      "cell_type": "markdown",
      "metadata": {
        "id": "qF5zh2XBj8mb"
      },
      "source": [
        "###Given an integer n, return True if n is within 10 of either 100 or 200"
      ]
    },
    {
      "cell_type": "code",
      "metadata": {
        "colab": {
          "base_uri": "https://localhost:8080/",
          "height": 162
        },
        "id": "FOwHus2lfzXV",
        "outputId": "5eebf793-020e-46ce-8c0e-26fb5371f53e"
      },
      "source": [
        "list(range(90,111))"
      ],
      "execution_count": null,
      "outputs": [
        {
          "output_type": "error",
          "ename": "TypeError",
          "evalue": "ignored",
          "traceback": [
            "\u001b[0;31m---------------------------------------------------------------------------\u001b[0m",
            "\u001b[0;31mTypeError\u001b[0m                                 Traceback (most recent call last)",
            "\u001b[0;32m<ipython-input-45-8924c1e35584>\u001b[0m in \u001b[0;36m<module>\u001b[0;34m()\u001b[0m\n\u001b[0;32m----> 1\u001b[0;31m \u001b[0mlist\u001b[0m\u001b[0;34m(\u001b[0m\u001b[0mrange\u001b[0m\u001b[0;34m(\u001b[0m\u001b[0;36m90\u001b[0m\u001b[0;34m,\u001b[0m\u001b[0;36m111\u001b[0m\u001b[0;34m)\u001b[0m\u001b[0;34m)\u001b[0m\u001b[0;34m\u001b[0m\u001b[0;34m\u001b[0m\u001b[0m\n\u001b[0m",
            "\u001b[0;31mTypeError\u001b[0m: 'list' object is not callable"
          ]
        }
      ]
    },
    {
      "cell_type": "code",
      "metadata": {
        "id": "B9GOGaw9mWh5"
      },
      "source": [
        "def num(x):\n",
        "  return x in range(90,111) or range(190,211)"
      ],
      "execution_count": null,
      "outputs": []
    },
    {
      "cell_type": "code",
      "metadata": {
        "colab": {
          "base_uri": "https://localhost:8080/"
        },
        "id": "Pxwjrwr9msq0",
        "outputId": "5a300681-395e-46a6-df9a-270da2225ef3"
      },
      "source": [
        "num(90)"
      ],
      "execution_count": null,
      "outputs": [
        {
          "output_type": "execute_result",
          "data": {
            "text/plain": [
              "True"
            ]
          },
          "metadata": {
            "tags": []
          },
          "execution_count": 90
        }
      ]
    },
    {
      "cell_type": "code",
      "metadata": {
        "id": "vmlzjhS-m2Hb"
      },
      "source": [
        "def has_33(num):\n",
        " \n",
        " for a in range(0,len(num)):\n",
        "   if num[a:a+1] == [3,3]:\n",
        "    print(\"true\")\n",
        "   else:\n",
        "    pass"
      ],
      "execution_count": null,
      "outputs": []
    },
    {
      "cell_type": "code",
      "metadata": {
        "colab": {
          "base_uri": "https://localhost:8080/"
        },
        "id": "OmUzL0WUpEwU",
        "outputId": "f96e589b-28cb-45a5-b4fe-b0e33a0de57b"
      },
      "source": [
        "has_33([1, 3, 3])"
      ],
      "execution_count": null,
      "outputs": [
        {
          "output_type": "execute_result",
          "data": {
            "text/plain": [
              "True"
            ]
          },
          "metadata": {
            "tags": []
          },
          "execution_count": 115
        }
      ]
    },
    {
      "cell_type": "code",
      "metadata": {
        "id": "ajhd040wpr_1"
      },
      "source": [
        "def name(txt):\n",
        "  result = ' '\n",
        "  for x in txt:\n",
        "    result = result + x*3\n",
        "  return result\n"
      ],
      "execution_count": null,
      "outputs": []
    },
    {
      "cell_type": "code",
      "metadata": {
        "colab": {
          "base_uri": "https://localhost:8080/",
          "height": 35
        },
        "id": "tvv7Ac5Wrb-S",
        "outputId": "b83531ab-3a31-483d-a69e-54ba05e12e7e"
      },
      "source": [
        "name('Hello')"
      ],
      "execution_count": null,
      "outputs": [
        {
          "output_type": "execute_result",
          "data": {
            "application/vnd.google.colaboratory.intrinsic+json": {
              "type": "string"
            },
            "text/plain": [
              "' HHHeeellllllooo'"
            ]
          },
          "metadata": {
            "tags": []
          },
          "execution_count": 153
        }
      ]
    },
    {
      "cell_type": "markdown",
      "metadata": {
        "id": "WZt1_QrwwzZ6"
      },
      "source": [
        "###Given three integers between 1 and 11, if their sum is less than or equal to 21, return their sum. If their sum exceeds 21 and there's an eleven, reduce the total sum by 10. Finally, if the sum (even after adjustment) exceeds 21, return 'BUST'"
      ]
    },
    {
      "cell_type": "code",
      "metadata": {
        "id": "lBuIDRbptngu"
      },
      "source": [
        "def black_jack(a,b,c):\n",
        "    if sum((a,b,c)) < 21:\n",
        "      return sum((a,b,c))\n",
        "    elif sum((a,b,c)) > 21 and 11 in (a,b,c):\n",
        "      return sum((a,b,c)) - 10\n",
        "    else:\n",
        "      print(\"bust\")\n"
      ],
      "execution_count": null,
      "outputs": []
    },
    {
      "cell_type": "code",
      "metadata": {
        "colab": {
          "base_uri": "https://localhost:8080/"
        },
        "id": "0M7xmURJxdZH",
        "outputId": "fb1ab6f7-24f2-4541-951d-5bab2088691e"
      },
      "source": [
        "black_jack(9,9,11)"
      ],
      "execution_count": null,
      "outputs": [
        {
          "output_type": "execute_result",
          "data": {
            "text/plain": [
              "19"
            ]
          },
          "metadata": {
            "tags": []
          },
          "execution_count": 47
        }
      ]
    },
    {
      "cell_type": "markdown",
      "metadata": {
        "id": "3OYlD_-3UbTY"
      },
      "source": [
        "#guessing game "
      ]
    },
    {
      "cell_type": "markdown",
      "metadata": {
        "id": "O25BHTFUe21K"
      },
      "source": [
        "# New section"
      ]
    },
    {
      "cell_type": "code",
      "metadata": {
        "id": "Z7jCgwUXd34n"
      },
      "source": [
        "lst = list(range(10,13))"
      ],
      "execution_count": null,
      "outputs": []
    },
    {
      "cell_type": "code",
      "metadata": {
        "id": "fX4PoOSQSbz7"
      },
      "source": [
        "from random import shuffle"
      ],
      "execution_count": null,
      "outputs": []
    },
    {
      "cell_type": "code",
      "metadata": {
        "id": "bSeiaUrZSx6q"
      },
      "source": [
        "def shfl(lst):\n",
        "  shuffle(lst)\n",
        "  print(lst)\n"
      ],
      "execution_count": null,
      "outputs": []
    },
    {
      "cell_type": "code",
      "metadata": {
        "colab": {
          "base_uri": "https://localhost:8080/"
        },
        "id": "6aARzE9CS3lN",
        "outputId": "a8eecd04-b3c8-493b-8c8a-dee744aca599"
      },
      "source": [
        "shfl(lst)"
      ],
      "execution_count": null,
      "outputs": [
        {
          "output_type": "stream",
          "text": [
            "[11, 10, 12]\n"
          ],
          "name": "stdout"
        }
      ]
    },
    {
      "cell_type": "code",
      "metadata": {
        "id": "yA_mX67kS9Et"
      },
      "source": [
        "def guess_num():\n",
        "  guess = ''\n",
        "\n",
        "  while guess not in ['10','11','12']:\n",
        "    print(\"select in the range\")\n",
        "    guess = input(\"enter the number:\")\n",
        "  return int(guess)"
      ],
      "execution_count": null,
      "outputs": []
    },
    {
      "cell_type": "code",
      "metadata": {
        "colab": {
          "base_uri": "https://localhost:8080/"
        },
        "id": "MaY39zQAV54G",
        "outputId": "6c28657d-4143-4eb4-88cc-9d148763f5cf"
      },
      "source": [
        "guess_num()"
      ],
      "execution_count": null,
      "outputs": [
        {
          "output_type": "stream",
          "text": [
            "select in the range\n",
            "enter the number:12\n"
          ],
          "name": "stdout"
        },
        {
          "output_type": "execute_result",
          "data": {
            "text/plain": [
              "12"
            ]
          },
          "metadata": {
            "tags": []
          },
          "execution_count": 14
        }
      ]
    },
    {
      "cell_type": "code",
      "metadata": {
        "id": "4omSrtOpWIfZ"
      },
      "source": [
        "def check(guess,lst):\n",
        "  if lst == shuffle_num:\n",
        "    print('correct')\n",
        "  else:\n",
        "    print(\"wrong\")"
      ],
      "execution_count": null,
      "outputs": []
    },
    {
      "cell_type": "code",
      "metadata": {
        "id": "TvsHA3VqX3Mh"
      },
      "source": [
        ""
      ],
      "execution_count": null,
      "outputs": []
    },
    {
      "cell_type": "code",
      "metadata": {
        "id": "p2u9YXOnbjnG"
      },
      "source": [
        ""
      ],
      "execution_count": null,
      "outputs": []
    },
    {
      "cell_type": "code",
      "metadata": {
        "id": "hiPrYmEjbkI0"
      },
      "source": [
        "class dog():\n",
        "\n",
        "  species = \"mammal\"\n",
        "\n",
        "  def __init__(self,breed,name):\n",
        "    self.breed = breed \n",
        "    self.name = name \n",
        "  def bark(self,age):\n",
        "    print(\"woof! my name is {} my age is {}\".format(self.name,age))"
      ],
      "execution_count": null,
      "outputs": []
    },
    {
      "cell_type": "code",
      "metadata": {
        "id": "tJm_8cT1cO5x"
      },
      "source": [
        "mydog = dog(\"lab\",\"shelly\")"
      ],
      "execution_count": null,
      "outputs": []
    },
    {
      "cell_type": "code",
      "metadata": {
        "colab": {
          "base_uri": "https://localhost:8080/"
        },
        "id": "-liiUf45ciyV",
        "outputId": "9d61800d-c96f-46fb-a55f-6a8c03e03d8c"
      },
      "source": [
        "mydog.bark(10)"
      ],
      "execution_count": null,
      "outputs": [
        {
          "output_type": "stream",
          "text": [
            "woof! my name is shelly my age is 10\n"
          ],
          "name": "stdout"
        }
      ]
    },
    {
      "cell_type": "code",
      "metadata": {
        "id": "1nKd0jrZcpdJ"
      },
      "source": [
        "class circle():\n",
        "  pi = 3.14\n",
        "  def __init__(self,area,radius = 2):\n",
        "     self.area = area\n",
        "     self.radius = radius   \n",
        "  def circumference(self):\n",
        "    return self.radius* self.pi *2\n",
        "  def area(self):\n",
        "    return self.pi*self.radius*self.radius\n"
      ],
      "execution_count": null,
      "outputs": []
    },
    {
      "cell_type": "code",
      "metadata": {
        "id": "g5uSnlK4fYcm"
      },
      "source": [
        "my_circle = circle(10)"
      ],
      "execution_count": null,
      "outputs": []
    },
    {
      "cell_type": "code",
      "metadata": {
        "colab": {
          "base_uri": "https://localhost:8080/"
        },
        "id": "S0zyq_avfeyJ",
        "outputId": "7d2553b0-6365-447e-e50b-32c4569112f7"
      },
      "source": [
        "my_circle.radius"
      ],
      "execution_count": null,
      "outputs": [
        {
          "output_type": "execute_result",
          "data": {
            "text/plain": [
              "2"
            ]
          },
          "metadata": {
            "tags": []
          },
          "execution_count": 4
        }
      ]
    },
    {
      "cell_type": "code",
      "metadata": {
        "colab": {
          "base_uri": "https://localhost:8080/"
        },
        "id": "UIbAkuEFfpDv",
        "outputId": "0f24d5b1-40b2-4262-c932-92f8ccf3bc5e"
      },
      "source": [
        "my_circle.circumference()"
      ],
      "execution_count": null,
      "outputs": [
        {
          "output_type": "execute_result",
          "data": {
            "text/plain": [
              "12.56"
            ]
          },
          "metadata": {
            "tags": []
          },
          "execution_count": 5
        }
      ]
    },
    {
      "cell_type": "markdown",
      "metadata": {
        "id": "9SkWmVOtfRSd"
      },
      "source": [
        "###patterns"
      ]
    },
    {
      "cell_type": "code",
      "metadata": {
        "id": "s7dBguLyhwkZ",
        "colab": {
          "base_uri": "https://localhost:8080/"
        },
        "outputId": "36d5d136-5a9a-4ab3-ee0b-5aca7bcd7811"
      },
      "source": [
        "print(\"# # # #\")\n",
        "print(\"# # # #\")\n",
        "print(\"# # # #\")\n",
        "print(\"# # # #\")\n",
        "\n",
        "\n",
        "\n"
      ],
      "execution_count": null,
      "outputs": [
        {
          "output_type": "stream",
          "text": [
            "# # # #\n",
            "# # # #\n",
            "# # # #\n",
            "# # # #\n"
          ],
          "name": "stdout"
        }
      ]
    },
    {
      "cell_type": "code",
      "metadata": {
        "colab": {
          "base_uri": "https://localhost:8080/"
        },
        "id": "f4Fq19V53_Ay",
        "outputId": "3c847ff9-5de7-48c2-de06-6472c3c32eeb"
      },
      "source": [
        "for i in range(4):\n",
        "  for j in range(4):\n",
        "    print('#', end=\" \")\n",
        "  print()"
      ],
      "execution_count": null,
      "outputs": [
        {
          "output_type": "stream",
          "text": [
            "# # # # \n",
            "# # # # \n",
            "# # # # \n",
            "# # # # \n"
          ],
          "name": "stdout"
        }
      ]
    },
    {
      "cell_type": "code",
      "metadata": {
        "colab": {
          "base_uri": "https://localhost:8080/"
        },
        "id": "7LeqVxOhfA_h",
        "outputId": "8f0fa2a6-ae8b-45be-d278-1da1d91cb1d5"
      },
      "source": [
        "for i in range(4):\n",
        "  for j in range(4-i):\n",
        "    print('#', end=\" \")\n",
        "  print()"
      ],
      "execution_count": null,
      "outputs": [
        {
          "output_type": "stream",
          "text": [
            "# # # # \n",
            "# # # \n",
            "# # \n",
            "# \n"
          ],
          "name": "stdout"
        }
      ]
    },
    {
      "cell_type": "code",
      "metadata": {
        "id": "r2-DKbAJ6Ikr"
      },
      "source": [
        "nums = [12,15,18,21,26]"
      ],
      "execution_count": null,
      "outputs": []
    },
    {
      "cell_type": "code",
      "metadata": {
        "colab": {
          "base_uri": "https://localhost:8080/"
        },
        "id": "zpT9L6xn88Xv",
        "outputId": "060f7f18-9c26-4ee4-d4b1-8e853737c75d"
      },
      "source": [
        "for num in nums:\n",
        "  if num % 2 == 0:\n",
        "    print(num)"
      ],
      "execution_count": null,
      "outputs": [
        {
          "output_type": "stream",
          "text": [
            "12\n",
            "18\n",
            "26\n"
          ],
          "name": "stdout"
        }
      ]
    },
    {
      "cell_type": "markdown",
      "metadata": {
        "id": "ZUiiJCjK9xfu"
      },
      "source": [
        "prime number:"
      ]
    },
    {
      "cell_type": "code",
      "metadata": {
        "id": "XeuFbvUs9GsQ"
      },
      "source": [
        ""
      ],
      "execution_count": null,
      "outputs": []
    }
  ]
}